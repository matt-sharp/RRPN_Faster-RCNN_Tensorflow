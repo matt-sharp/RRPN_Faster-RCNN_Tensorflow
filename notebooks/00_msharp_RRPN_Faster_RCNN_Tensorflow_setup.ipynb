{
  "nbformat": 4,
  "nbformat_minor": 0,
  "metadata": {
    "colab": {
      "name": "00-msharp-RRPN_Faster-RCNN_Tensorflow-setup.ipynb",
      "provenance": [],
      "collapsed_sections": []
    },
    "kernelspec": {
      "name": "python3",
      "display_name": "Python 3"
    }
  },
  "cells": [
    {
      "cell_type": "code",
      "metadata": {
        "colab": {
          "base_uri": "https://localhost:8080/"
        },
        "id": "9qA-cm8QdWzn",
        "outputId": "b5e2a780-ac4c-4c14-84b5-981a58c564b7"
      },
      "source": [
        "from google.colab import drive\r\n",
        "from os.path import join  \r\n",
        "\r\n",
        "ROOT = \"/content/drive\"\r\n",
        "# replace with your project path on Google Drive\r\n",
        "PROJ = \"MyDrive/work/github_repos/RRPN_Faster-RCNN_Tensorflow\"\r\n",
        "\r\n",
        "# mount your personal google drive at /content/drive\r\n",
        "drive.mount(ROOT)           \r\n",
        "\r\n",
        "PROJECT_PATH = join(ROOT, PROJ)\r\n",
        "print(\"PROJECT_PATH: \", PROJECT_PATH)  "
      ],
      "execution_count": 2,
      "outputs": [
        {
          "output_type": "stream",
          "text": [
            "Drive already mounted at /content/drive; to attempt to forcibly remount, call drive.mount(\"/content/drive\", force_remount=True).\n",
            "PROJECT_PATH:  /content/drive/MyDrive/work/github_repos/RRPN_Faster-RCNN_Tensorflow\n"
          ],
          "name": "stdout"
        }
      ]
    },
    {
      "cell_type": "code",
      "metadata": {
        "colab": {
          "base_uri": "https://localhost:8080/"
        },
        "id": "5XRy5zG2cIF6",
        "outputId": "e6246057-fd84-4b8a-b21e-a8494328e4d8"
      },
      "source": [
        "# Download Model\r\n",
        "# 1、please download resnet50_v1、resnet101_v1 pre-trained models on Imagenet, put it to data/pretrained_weights.\r\n",
        "# 2、please download mobilenet_v2 pre-trained model on Imagenet, put it to data/pretrained_weights/mobilenet.\r\n",
        "# 3、please download trained model by this project, put it to output/trained_weights.\r\n",
        "\r\n",
        "#!wget \"http://download.tensorflow.org/models/resnet_v1_50_2016_08_28.tar.gz\" -P \"{PROJECT_PATH}/data/pretrained_weights\"\r\n",
        "#!wget \"http://download.tensorflow.org/models/resnet_v1_101_2016_08_28.tar.gz\" -P \"{PROJECT_PATH}/data/pretrained_weights\"\r\n",
        "\r\n",
        "#!wget \"https://storage.googleapis.com/mobilenet_v2/checkpoints/mobilenet_v2_1.0_224.tgz\" -P \"{PROJECT_PATH}/data/pretrained_weights/mobilenet\"\r\n",
        "\r\n",
        "!wget \"https://github.com/DetectionTeamUCAS/Models/raw/master/RRPN_Faster-RCNN_Tensorflow/RRPN_20180901_DOTA_v1.part1.rar\" -P \"{PROJECT_PATH}/output/trained_weights\"\r\n",
        "!wget \"https://github.com/DetectionTeamUCAS/Models/raw/master/RRPN_Faster-RCNN_Tensorflow/RRPN_20180901_DOTA_v1.part2.rar\" -P \"{PROJECT_PATH}/output/trained_weights\"\r\n",
        "!wget \"https://github.com/DetectionTeamUCAS/Models/raw/master/RRPN_Faster-RCNN_Tensorflow/RRPN_20180901_DOTA_v1.part3.rar\" -P \"{PROJECT_PATH}/output/trained_weights\"\r\n",
        "!wget \"https://github.com/DetectionTeamUCAS/Models/raw/master/RRPN_Faster-RCNN_Tensorflow/RRPN_20180901_DOTA_v1.part4.rar\" -P \"{PROJECT_PATH}/output/trained_weights\"\r\n",
        "!wget \"https://github.com/DetectionTeamUCAS/Models/raw/master/RRPN_Faster-RCNN_Tensorflow/checkpoint\" -P \"{PROJECT_PATH}/output/trained_weights\""
      ],
      "execution_count": 3,
      "outputs": [
        {
          "output_type": "stream",
          "text": [
            "--2020-12-23 12:36:55--  https://github.com/DetectionTeamUCAS/Models/raw/master/RRPN_Faster-RCNN_Tensorflow/RRPN_20180901_DOTA_v1.part1.rar\n",
            "Resolving github.com (github.com)... 140.82.114.4\n",
            "Connecting to github.com (github.com)|140.82.114.4|:443... connected.\n",
            "HTTP request sent, awaiting response... 302 Found\n",
            "Location: https://raw.githubusercontent.com/DetectionTeamUCAS/Models/master/RRPN_Faster-RCNN_Tensorflow/RRPN_20180901_DOTA_v1.part1.rar [following]\n",
            "--2020-12-23 12:36:55--  https://raw.githubusercontent.com/DetectionTeamUCAS/Models/master/RRPN_Faster-RCNN_Tensorflow/RRPN_20180901_DOTA_v1.part1.rar\n",
            "Resolving raw.githubusercontent.com (raw.githubusercontent.com)... 151.101.0.133, 151.101.64.133, 151.101.128.133, ...\n",
            "Connecting to raw.githubusercontent.com (raw.githubusercontent.com)|151.101.0.133|:443... connected.\n",
            "HTTP request sent, awaiting response... 200 OK\n",
            "Length: 99614720 (95M) [application/octet-stream]\n",
            "Saving to: ‘/content/drive/MyDrive/work/github_repos/RRPN_Faster-RCNN_Tensorflow/output/trained_weights/RRPN_20180901_DOTA_v1.part1.rar’\n",
            "\n",
            "RRPN_20180901_DOTA_ 100%[===================>]  95.00M  55.3MB/s    in 1.7s    \n",
            "\n",
            "2020-12-23 12:36:57 (55.3 MB/s) - ‘/content/drive/MyDrive/work/github_repos/RRPN_Faster-RCNN_Tensorflow/output/trained_weights/RRPN_20180901_DOTA_v1.part1.rar’ saved [99614720/99614720]\n",
            "\n",
            "--2020-12-23 12:36:57--  https://github.com/DetectionTeamUCAS/Models/raw/master/RRPN_Faster-RCNN_Tensorflow/RRPN_20180901_DOTA_v1.part2.rar\n",
            "Resolving github.com (github.com)... 140.82.112.3\n",
            "Connecting to github.com (github.com)|140.82.112.3|:443... connected.\n",
            "HTTP request sent, awaiting response... 302 Found\n",
            "Location: https://raw.githubusercontent.com/DetectionTeamUCAS/Models/master/RRPN_Faster-RCNN_Tensorflow/RRPN_20180901_DOTA_v1.part2.rar [following]\n",
            "--2020-12-23 12:36:57--  https://raw.githubusercontent.com/DetectionTeamUCAS/Models/master/RRPN_Faster-RCNN_Tensorflow/RRPN_20180901_DOTA_v1.part2.rar\n",
            "Resolving raw.githubusercontent.com (raw.githubusercontent.com)... 151.101.0.133, 151.101.64.133, 151.101.128.133, ...\n",
            "Connecting to raw.githubusercontent.com (raw.githubusercontent.com)|151.101.0.133|:443... connected.\n",
            "HTTP request sent, awaiting response... 200 OK\n",
            "Length: 99614720 (95M) [application/octet-stream]\n",
            "Saving to: ‘/content/drive/MyDrive/work/github_repos/RRPN_Faster-RCNN_Tensorflow/output/trained_weights/RRPN_20180901_DOTA_v1.part2.rar’\n",
            "\n",
            "RRPN_20180901_DOTA_ 100%[===================>]  95.00M  56.7MB/s    in 1.7s    \n",
            "\n",
            "2020-12-23 12:36:59 (56.7 MB/s) - ‘/content/drive/MyDrive/work/github_repos/RRPN_Faster-RCNN_Tensorflow/output/trained_weights/RRPN_20180901_DOTA_v1.part2.rar’ saved [99614720/99614720]\n",
            "\n",
            "--2020-12-23 12:36:59--  https://github.com/DetectionTeamUCAS/Models/raw/master/RRPN_Faster-RCNN_Tensorflow/RRPN_20180901_DOTA_v1.part3.rar\n",
            "Resolving github.com (github.com)... 140.82.112.3\n",
            "Connecting to github.com (github.com)|140.82.112.3|:443... connected.\n",
            "HTTP request sent, awaiting response... 302 Found\n",
            "Location: https://raw.githubusercontent.com/DetectionTeamUCAS/Models/master/RRPN_Faster-RCNN_Tensorflow/RRPN_20180901_DOTA_v1.part3.rar [following]\n",
            "--2020-12-23 12:36:59--  https://raw.githubusercontent.com/DetectionTeamUCAS/Models/master/RRPN_Faster-RCNN_Tensorflow/RRPN_20180901_DOTA_v1.part3.rar\n",
            "Resolving raw.githubusercontent.com (raw.githubusercontent.com)... 151.101.0.133, 151.101.64.133, 151.101.128.133, ...\n",
            "Connecting to raw.githubusercontent.com (raw.githubusercontent.com)|151.101.0.133|:443... connected.\n",
            "HTTP request sent, awaiting response... 200 OK\n",
            "Length: 99614720 (95M) [application/octet-stream]\n",
            "Saving to: ‘/content/drive/MyDrive/work/github_repos/RRPN_Faster-RCNN_Tensorflow/output/trained_weights/RRPN_20180901_DOTA_v1.part3.rar’\n",
            "\n",
            "RRPN_20180901_DOTA_ 100%[===================>]  95.00M  55.0MB/s    in 1.7s    \n",
            "\n",
            "2020-12-23 12:37:01 (55.0 MB/s) - ‘/content/drive/MyDrive/work/github_repos/RRPN_Faster-RCNN_Tensorflow/output/trained_weights/RRPN_20180901_DOTA_v1.part3.rar’ saved [99614720/99614720]\n",
            "\n",
            "--2020-12-23 12:37:01--  https://github.com/DetectionTeamUCAS/Models/raw/master/RRPN_Faster-RCNN_Tensorflow/RRPN_20180901_DOTA_v1.part4.rar\n",
            "Resolving github.com (github.com)... 140.82.112.3\n",
            "Connecting to github.com (github.com)|140.82.112.3|:443... connected.\n",
            "HTTP request sent, awaiting response... 302 Found\n",
            "Location: https://raw.githubusercontent.com/DetectionTeamUCAS/Models/master/RRPN_Faster-RCNN_Tensorflow/RRPN_20180901_DOTA_v1.part4.rar [following]\n",
            "--2020-12-23 12:37:01--  https://raw.githubusercontent.com/DetectionTeamUCAS/Models/master/RRPN_Faster-RCNN_Tensorflow/RRPN_20180901_DOTA_v1.part4.rar\n",
            "Resolving raw.githubusercontent.com (raw.githubusercontent.com)... 151.101.0.133, 151.101.64.133, 151.101.128.133, ...\n",
            "Connecting to raw.githubusercontent.com (raw.githubusercontent.com)|151.101.0.133|:443... connected.\n",
            "HTTP request sent, awaiting response... 200 OK\n",
            "Length: 66094097 (63M) [application/octet-stream]\n",
            "Saving to: ‘/content/drive/MyDrive/work/github_repos/RRPN_Faster-RCNN_Tensorflow/output/trained_weights/RRPN_20180901_DOTA_v1.part4.rar’\n",
            "\n",
            "RRPN_20180901_DOTA_ 100%[===================>]  63.03M  48.5MB/s    in 1.3s    \n",
            "\n",
            "2020-12-23 12:37:03 (48.5 MB/s) - ‘/content/drive/MyDrive/work/github_repos/RRPN_Faster-RCNN_Tensorflow/output/trained_weights/RRPN_20180901_DOTA_v1.part4.rar’ saved [66094097/66094097]\n",
            "\n",
            "--2020-12-23 12:37:03--  https://github.com/DetectionTeamUCAS/Models/raw/master/RRPN_Faster-RCNN_Tensorflow/checkpoint\n",
            "Resolving github.com (github.com)... 140.82.113.3\n",
            "Connecting to github.com (github.com)|140.82.113.3|:443... connected.\n",
            "HTTP request sent, awaiting response... 302 Found\n",
            "Location: https://raw.githubusercontent.com/DetectionTeamUCAS/Models/master/RRPN_Faster-RCNN_Tensorflow/checkpoint [following]\n",
            "--2020-12-23 12:37:03--  https://raw.githubusercontent.com/DetectionTeamUCAS/Models/master/RRPN_Faster-RCNN_Tensorflow/checkpoint\n",
            "Resolving raw.githubusercontent.com (raw.githubusercontent.com)... 151.101.0.133, 151.101.64.133, 151.101.128.133, ...\n",
            "Connecting to raw.githubusercontent.com (raw.githubusercontent.com)|151.101.0.133|:443... connected.\n",
            "HTTP request sent, awaiting response... 200 OK\n",
            "Length: 46 [text/plain]\n",
            "Saving to: ‘/content/drive/MyDrive/work/github_repos/RRPN_Faster-RCNN_Tensorflow/output/trained_weights/checkpoint’\n",
            "\n",
            "checkpoint          100%[===================>]      46  --.-KB/s    in 0s      \n",
            "\n",
            "2020-12-23 12:37:03 (1020 KB/s) - ‘/content/drive/MyDrive/work/github_repos/RRPN_Faster-RCNN_Tensorflow/output/trained_weights/checkpoint’ saved [46/46]\n",
            "\n"
          ],
          "name": "stdout"
        }
      ]
    },
    {
      "cell_type": "code",
      "metadata": {
        "colab": {
          "base_uri": "https://localhost:8080/"
        },
        "id": "tGKyuY-1cyH0",
        "outputId": "66749740-08f4-488f-ca2c-0dee43cc206e"
      },
      "source": [
        "# Unzip all data\r\n",
        "#!tar -xvzf \"{PROJECT_PATH}/data/pretrained_weights/resnet_v1_50_2016_08_28.tar.gz\" -C \"{PROJECT_PATH}/data/pretrained_weights\"\r\n",
        "#!tar -xvzf \"{PROJECT_PATH}/data/pretrained_weights/resnet_v1_101_2016_08_28.tar.gz\" -C \"{PROJECT_PATH}/data/pretrained_weights\"\r\n",
        "\r\n",
        "#!tar -xvzf \"{PROJECT_PATH}/data/pretrained_weights/mobilenet/mobilenet_v2_1.0_224.tgz\" -C \"{PROJECT_PATH}/data/pretrained_weights/mobilenet\"\r\n",
        " \r\n",
        "!unrar e \"{PROJECT_PATH}/output/trained_weights/RRPN_20180901_DOTA_v1.part1.rar\" -C \"{PROJECT_PATH}/output/trained_weights\"\r\n",
        "!unrar e \"{PROJECT_PATH}/output/trained_weights/RRPN_20180901_DOTA_v1.part2.rar\" -C \"{PROJECT_PATH}/output/trained_weights\"\r\n",
        "!unrar e \"{PROJECT_PATH}/output/trained_weights/RRPN_20180901_DOTA_v1.part3.rar\" -C \"{PROJECT_PATH}/output/trained_weights\"\r\n",
        "!unrar e \"{PROJECT_PATH}/output/trained_weights/RRPN_20180901_DOTA_v1.part4.rar\" -C \"{PROJECT_PATH}/output/trained_weights\""
      ],
      "execution_count": 5,
      "outputs": [
        {
          "output_type": "stream",
          "text": [
            "\n",
            "UNRAR 5.50 freeware      Copyright (c) 1993-2017 Alexander Roshal\n",
            "\n",
            "\n",
            "Extracting from /content/drive/MyDrive/work/github_repos/RRPN_Faster-RCNN_Tensorflow/output/trained_weights/RRPN_20180901_DOTA_v1.part1.rar\n",
            "\n",
            "Extracting  /content/drive/MyDrive/work/github_repos/RRPN_Faster-RCNN_Tensorflow/output/trained_weights/voc_256001model.ckpt.data-00000-of-00001     \b\b\b\b  0%\b\b\b\b  1%\b\b\b\b  2%\b\b\b\b  3%\b\b\b\b  4%\b\b\b\b  5%\b\b\b\b  6%\b\b\b\b  7%\b\b\b\b  8%\b\b\b\b  9%\b\b\b\b 10%\b\b\b\b 11%\b\b\b\b 12%\b\b\b\b 13%\b\b\b\b 14%\b\b\b\b 15%\b\b\b\b 16%\b\b\b\b 17%\b\b\b\b 18%\b\b\b\b 19%\b\b\b\b 20%\b\b\b\b 21%\b\b\b\b 22%\b\b\b\b 23%\b\b\b\b 24%\b\b\b\b 25%\b\b\b\b 26%\b\b\b\b 27%\n",
            "\n",
            "Extracting from /content/drive/MyDrive/work/github_repos/RRPN_Faster-RCNN_Tensorflow/output/trained_weights/RRPN_20180901_DOTA_v1.part2.rar\n",
            "\n",
            "...         RRPN_20180901_DOTA_v1/voc_256001model.ckpt.data-00000-of-00001     \b\b\b\b 28%\b\b\b\b 29%\b\b\b\b 30%\b\b\b\b 31%\b\b\b\b 32%\b\b\b\b 33%\b\b\b\b 34%\b\b\b\b 35%\b\b\b\b 36%\b\b\b\b 37%\b\b\b\b 38%\b\b\b\b 39%\b\b\b\b 40%\b\b\b\b 41%\b\b\b\b 42%\b\b\b\b 43%\b\b\b\b 44%\b\b\b\b 45%\b\b\b\b 46%\b\b\b\b 47%\b\b\b\b 48%\b\b\b\b 49%\b\b\b\b 50%\b\b\b\b 51%\b\b\b\b 52%\b\b\b\b 53%\b\b\b\b 54%\n",
            "\n",
            "Extracting from /content/drive/MyDrive/work/github_repos/RRPN_Faster-RCNN_Tensorflow/output/trained_weights/RRPN_20180901_DOTA_v1.part3.rar\n",
            "\n",
            "...         RRPN_20180901_DOTA_v1/voc_256001model.ckpt.data-00000-of-00001     \b\b\b\b 55%\b\b\b\b 56%\b\b\b\b 57%\b\b\b\b 58%\b\b\b\b 59%\b\b\b\b 60%\b\b\b\b 61%\b\b\b\b 62%\b\b\b\b 63%\b\b\b\b 64%\b\b\b\b 65%\b\b\b\b 66%\b\b\b\b 67%\b\b\b\b 68%\b\b\b\b 69%\b\b\b\b 70%\b\b\b\b 71%\b\b\b\b 72%\b\b\b\b 73%\b\b\b\b 74%\b\b\b\b 75%\b\b\b\b 76%\b\b\b\b 77%\b\b\b\b 78%\b\b\b\b 79%\b\b\b\b 80%\b\b\b\b 81%\n",
            "\n",
            "Extracting from /content/drive/MyDrive/work/github_repos/RRPN_Faster-RCNN_Tensorflow/output/trained_weights/RRPN_20180901_DOTA_v1.part4.rar\n",
            "\n",
            "...         RRPN_20180901_DOTA_v1/voc_256001model.ckpt.data-00000-of-00001     \b\b\b\b 82%\b\b\b\b 83%\b\b\b\b 84%\b\b\b\b 85%\b\b\b\b 86%\b\b\b\b 87%\b\b\b\b 88%\b\b\b\b 89%\b\b\b\b 90%\b\b\b\b 91%\b\b\b\b 92%\b\b\b\b 93%\b\b\b\b 94%\b\b\b\b 95%\b\b\b\b 96%\b\b\b\b 97%\b\b\b\b 98%\b\b\b\b 99%\b\b\b\b\b  OK \n",
            "Extracting  /content/drive/MyDrive/work/github_repos/RRPN_Faster-RCNN_Tensorflow/output/trained_weights/voc_256001model.ckpt.index     \b\b\b\b 99%\b\b\b\b\b  OK \n",
            "Extracting  /content/drive/MyDrive/work/github_repos/RRPN_Faster-RCNN_Tensorflow/output/trained_weights/voc_256001model.ckpt.meta     \b\b\b\b 99%\b\b\b\b\b  OK \n",
            "All OK\n",
            "\n",
            "UNRAR 5.50 freeware      Copyright (c) 1993-2017 Alexander Roshal\n",
            "\n",
            "\n",
            "Extracting from /content/drive/MyDrive/work/github_repos/RRPN_Faster-RCNN_Tensorflow/output/trained_weights/RRPN_20180901_DOTA_v1.part2.rar\n",
            "\n",
            "\n",
            "Extracting from /content/drive/MyDrive/work/github_repos/RRPN_Faster-RCNN_Tensorflow/output/trained_weights/RRPN_20180901_DOTA_v1.part1.rar\n",
            "\n",
            "\n",
            "Would you like to replace the existing file /content/drive/MyDrive/work/github_repos/RRPN_Faster-RCNN_Tensorflow/output/trained_weights/voc_256001model.ckpt.data-00000-of-00001\n",
            "387033192 bytes, modified on 2018-09-29 16:28\n",
            "with a new one\n",
            "387033192 bytes, modified on 2018-09-29 16:28\n",
            "\n",
            "[Y]es, [N]o, [A]ll, n[E]ver, [R]ename, [Q]uit N\n",
            "\n",
            "\n",
            "Extracting from /content/drive/MyDrive/work/github_repos/RRPN_Faster-RCNN_Tensorflow/output/trained_weights/RRPN_20180901_DOTA_v1.part2.rar\n",
            "\n",
            "\n",
            "Extracting from /content/drive/MyDrive/work/github_repos/RRPN_Faster-RCNN_Tensorflow/output/trained_weights/RRPN_20180901_DOTA_v1.part3.rar\n",
            "\n",
            "\n",
            "Extracting from /content/drive/MyDrive/work/github_repos/RRPN_Faster-RCNN_Tensorflow/output/trained_weights/RRPN_20180901_DOTA_v1.part4.rar\n",
            "\n",
            "\n",
            "Would you like to replace the existing file /content/drive/MyDrive/work/github_repos/RRPN_Faster-RCNN_Tensorflow/output/trained_weights/voc_256001model.ckpt.index\n",
            " 27536 bytes, modified on 2018-09-29 16:28\n",
            "with a new one\n",
            " 27536 bytes, modified on 2018-09-29 16:28\n",
            "\n",
            "[Y]es, [N]o, [A]ll, n[E]ver, [R]ename, [Q]uit N\n",
            "\n",
            "\n",
            "Would you like to replace the existing file /content/drive/MyDrive/work/github_repos/RRPN_Faster-RCNN_Tensorflow/output/trained_weights/voc_256001model.ckpt.meta\n",
            "4635873 bytes, modified on 2018-09-29 16:28\n",
            "with a new one\n",
            "4635873 bytes, modified on 2018-09-29 16:28\n",
            "\n",
            "[Y]es, [N]o, [A]ll, n[E]ver, [R]ename, [Q]uit N\n",
            "\n",
            "No files to extract\n",
            "\n",
            "UNRAR 5.50 freeware      Copyright (c) 1993-2017 Alexander Roshal\n",
            "\n",
            "\n",
            "Extracting from /content/drive/MyDrive/work/github_repos/RRPN_Faster-RCNN_Tensorflow/output/trained_weights/RRPN_20180901_DOTA_v1.part3.rar\n",
            "\n",
            "\n",
            "Extracting from /content/drive/MyDrive/work/github_repos/RRPN_Faster-RCNN_Tensorflow/output/trained_weights/RRPN_20180901_DOTA_v1.part1.rar\n",
            "\n",
            "\n",
            "Would you like to replace the existing file /content/drive/MyDrive/work/github_repos/RRPN_Faster-RCNN_Tensorflow/output/trained_weights/voc_256001model.ckpt.data-00000-of-00001\n",
            "387033192 bytes, modified on 2018-09-29 16:28\n",
            "with a new one\n",
            "387033192 bytes, modified on 2018-09-29 16:28\n",
            "\n",
            "[Y]es, [N]o, [A]ll, n[E]ver, [R]ename, [Q]uit N\n",
            "\n",
            "\n",
            "Extracting from /content/drive/MyDrive/work/github_repos/RRPN_Faster-RCNN_Tensorflow/output/trained_weights/RRPN_20180901_DOTA_v1.part2.rar\n",
            "\n",
            "\n",
            "Extracting from /content/drive/MyDrive/work/github_repos/RRPN_Faster-RCNN_Tensorflow/output/trained_weights/RRPN_20180901_DOTA_v1.part3.rar\n",
            "\n",
            "\n",
            "Extracting from /content/drive/MyDrive/work/github_repos/RRPN_Faster-RCNN_Tensorflow/output/trained_weights/RRPN_20180901_DOTA_v1.part4.rar\n",
            "\n",
            "\n",
            "Would you like to replace the existing file /content/drive/MyDrive/work/github_repos/RRPN_Faster-RCNN_Tensorflow/output/trained_weights/voc_256001model.ckpt.index\n",
            " 27536 bytes, modified on 2018-09-29 16:28\n",
            "with a new one\n",
            " 27536 bytes, modified on 2018-09-29 16:28\n",
            "\n",
            "[Y]es, [N]o, [A]ll, n[E]ver, [R]ename, [Q]uit N\n",
            "\n",
            "\n",
            "Would you like to replace the existing file /content/drive/MyDrive/work/github_repos/RRPN_Faster-RCNN_Tensorflow/output/trained_weights/voc_256001model.ckpt.meta\n",
            "4635873 bytes, modified on 2018-09-29 16:28\n",
            "with a new one\n",
            "4635873 bytes, modified on 2018-09-29 16:28\n",
            "\n",
            "[Y]es, [N]o, [A]ll, n[E]ver, [R]ename, [Q]uit N\n",
            "\n",
            "No files to extract\n",
            "\n",
            "UNRAR 5.50 freeware      Copyright (c) 1993-2017 Alexander Roshal\n",
            "\n",
            "\n",
            "Extracting from /content/drive/MyDrive/work/github_repos/RRPN_Faster-RCNN_Tensorflow/output/trained_weights/RRPN_20180901_DOTA_v1.part4.rar\n",
            "\n",
            "\n",
            "Extracting from /content/drive/MyDrive/work/github_repos/RRPN_Faster-RCNN_Tensorflow/output/trained_weights/RRPN_20180901_DOTA_v1.part1.rar\n",
            "\n",
            "\n",
            "Would you like to replace the existing file /content/drive/MyDrive/work/github_repos/RRPN_Faster-RCNN_Tensorflow/output/trained_weights/voc_256001model.ckpt.data-00000-of-00001\n",
            "387033192 bytes, modified on 2018-09-29 16:28\n",
            "with a new one\n",
            "387033192 bytes, modified on 2018-09-29 16:28\n",
            "\n",
            "[Y]es, [N]o, [A]ll, n[E]ver, [R]ename, [Q]uit N\n",
            "\n",
            "\n",
            "Extracting from /content/drive/MyDrive/work/github_repos/RRPN_Faster-RCNN_Tensorflow/output/trained_weights/RRPN_20180901_DOTA_v1.part2.rar\n",
            "\n",
            "\n",
            "Extracting from /content/drive/MyDrive/work/github_repos/RRPN_Faster-RCNN_Tensorflow/output/trained_weights/RRPN_20180901_DOTA_v1.part3.rar\n",
            "\n",
            "\n",
            "Extracting from /content/drive/MyDrive/work/github_repos/RRPN_Faster-RCNN_Tensorflow/output/trained_weights/RRPN_20180901_DOTA_v1.part4.rar\n",
            "\n",
            "\n",
            "Would you like to replace the existing file /content/drive/MyDrive/work/github_repos/RRPN_Faster-RCNN_Tensorflow/output/trained_weights/voc_256001model.ckpt.index\n",
            " 27536 bytes, modified on 2018-09-29 16:28\n",
            "with a new one\n",
            " 27536 bytes, modified on 2018-09-29 16:28\n",
            "\n",
            "[Y]es, [N]o, [A]ll, n[E]ver, [R]ename, [Q]uit N\n",
            "\n",
            "\n",
            "Would you like to replace the existing file /content/drive/MyDrive/work/github_repos/RRPN_Faster-RCNN_Tensorflow/output/trained_weights/voc_256001model.ckpt.meta\n",
            "4635873 bytes, modified on 2018-09-29 16:28\n",
            "with a new one\n",
            "4635873 bytes, modified on 2018-09-29 16:28\n",
            "\n",
            "[Y]es, [N]o, [A]ll, n[E]ver, [R]ename, [Q]uit N\n",
            "\n",
            "No files to extract\n"
          ],
          "name": "stdout"
        }
      ]
    },
    {
      "cell_type": "code",
      "metadata": {
        "colab": {
          "base_uri": "https://localhost:8080/"
        },
        "id": "XnG-DTB-kvi7",
        "outputId": "3b47e597-2450-43b0-dff1-e4905bd6f111"
      },
      "source": [
        "!wget \"https://drive.google.com/drive/folders/1gmeE3D7R62UAtuIFOB9j2M5cUPTwtsxK\" -P \"{PROJECT_PATH}/data/io/DOTA\""
      ],
      "execution_count": 7,
      "outputs": [
        {
          "output_type": "stream",
          "text": [
            "--2020-12-23 13:16:10--  https://drive.google.com/drive/folders/1gmeE3D7R62UAtuIFOB9j2M5cUPTwtsxK\n",
            "Resolving drive.google.com (drive.google.com)... 108.177.111.100, 108.177.111.102, 108.177.111.101, ...\n",
            "Connecting to drive.google.com (drive.google.com)|108.177.111.100|:443... connected.\n",
            "HTTP request sent, awaiting response... 200 OK\n",
            "Length: unspecified [text/html]\n",
            "Saving to: ‘/content/drive/MyDrive/work/github_repos/RRPN_Faster-RCNN_Tensorflow/data/io/DOTA/1gmeE3D7R62UAtuIFOB9j2M5cUPTwtsxK’\n",
            "\n",
            "1gmeE3D7R62UAtuIFOB     [  <=>               ] 229.92K   532KB/s    in 0.4s    \n",
            "\n",
            "2020-12-23 13:16:10 (532 KB/s) - ‘/content/drive/MyDrive/work/github_repos/RRPN_Faster-RCNN_Tensorflow/data/io/DOTA/1gmeE3D7R62UAtuIFOB9j2M5cUPTwtsxK’ saved [235440]\n",
            "\n"
          ],
          "name": "stdout"
        }
      ]
    },
    {
      "cell_type": "code",
      "metadata": {
        "colab": {
          "base_uri": "https://localhost:8080/"
        },
        "id": "flMJbVlGeskN",
        "outputId": "12ee5e72-2216-46cc-cf1f-5373e5d76bf4"
      },
      "source": [
        "#!unzip \"{PROJECT_PATH}/data/io/DOTA/images/part1.zip\" -d \"{PROJECT_PATH}/data/io/DOTA/images/\"\r\n",
        "!unzip \"{PROJECT_PATH}/data/io/DOTA/images/part2.zip\" -d \"{PROJECT_PATH}/data/io/DOTA/images/\""
      ],
      "execution_count": null,
      "outputs": [
        {
          "output_type": "stream",
          "text": [
            "Archive:  /content/drive/MyDrive/work/github_repos/RRPN_Faster-RCNN_Tensorflow/data/io/DOTA/images/part2.zip\n",
            "  inflating: /content/drive/MyDrive/work/github_repos/RRPN_Faster-RCNN_Tensorflow/data/io/DOTA/images/images/P1400.png  \n",
            "  inflating: /content/drive/MyDrive/work/github_repos/RRPN_Faster-RCNN_Tensorflow/data/io/DOTA/images/images/P1402.png  \n",
            "  inflating: /content/drive/MyDrive/work/github_repos/RRPN_Faster-RCNN_Tensorflow/data/io/DOTA/images/images/P1404.png  \n",
            "  inflating: /content/drive/MyDrive/work/github_repos/RRPN_Faster-RCNN_Tensorflow/data/io/DOTA/images/images/P1405.png  \n",
            "  inflating: /content/drive/MyDrive/work/github_repos/RRPN_Faster-RCNN_Tensorflow/data/io/DOTA/images/images/P1406.png  \n",
            "  inflating: /content/drive/MyDrive/work/github_repos/RRPN_Faster-RCNN_Tensorflow/data/io/DOTA/images/images/P1407.png  \n",
            "  inflating: /content/drive/MyDrive/work/github_repos/RRPN_Faster-RCNN_Tensorflow/data/io/DOTA/images/images/P1409.png  \n",
            "  inflating: /content/drive/MyDrive/work/github_repos/RRPN_Faster-RCNN_Tensorflow/data/io/DOTA/images/images/P1411.png  \n",
            "  inflating: /content/drive/MyDrive/work/github_repos/RRPN_Faster-RCNN_Tensorflow/data/io/DOTA/images/images/P1415.png  \n",
            "  inflating: /content/drive/MyDrive/work/github_repos/RRPN_Faster-RCNN_Tensorflow/data/io/DOTA/images/images/P1417.png  \n",
            "  inflating: /content/drive/MyDrive/work/github_repos/RRPN_Faster-RCNN_Tensorflow/data/io/DOTA/images/images/P1422.png  \n",
            "  inflating: /content/drive/MyDrive/work/github_repos/RRPN_Faster-RCNN_Tensorflow/data/io/DOTA/images/images/P1423.png  \n",
            "  inflating: /content/drive/MyDrive/work/github_repos/RRPN_Faster-RCNN_Tensorflow/data/io/DOTA/images/images/P1424.png  \n",
            "  inflating: /content/drive/MyDrive/work/github_repos/RRPN_Faster-RCNN_Tensorflow/data/io/DOTA/images/images/P1425.png  \n",
            "  inflating: /content/drive/MyDrive/work/github_repos/RRPN_Faster-RCNN_Tensorflow/data/io/DOTA/images/images/P1430.png  \n",
            "  inflating: /content/drive/MyDrive/work/github_repos/RRPN_Faster-RCNN_Tensorflow/data/io/DOTA/images/images/P1435.png  \n",
            "  inflating: /content/drive/MyDrive/work/github_repos/RRPN_Faster-RCNN_Tensorflow/data/io/DOTA/images/images/P1436.png  "
          ],
          "name": "stdout"
        }
      ]
    },
    {
      "cell_type": "code",
      "metadata": {
        "id": "zdq7mA0Zz9CY"
      },
      "source": [
        ""
      ],
      "execution_count": null,
      "outputs": []
    }
  ]
}